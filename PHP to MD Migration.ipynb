{
 "cells": [
  {
   "cell_type": "markdown",
   "id": "a2527cc0",
   "metadata": {},
   "source": [
    "# PHP to MD Migration"
   ]
  },
  {
   "cell_type": "code",
   "execution_count": 6,
   "id": "a225cfd5",
   "metadata": {},
   "outputs": [],
   "source": [
    "from bs4 import BeautifulSoup"
   ]
  },
  {
   "cell_type": "code",
   "execution_count": 11,
   "id": "9c0affce",
   "metadata": {},
   "outputs": [],
   "source": [
    "from markdownify import MarkdownConverter\n",
    "\n",
    "# Create shorthand method for conversion\n",
    "def md(soup, **options):\n",
    "    return MarkdownConverter(heading_style='ATX', **options).convert_soup(soup)"
   ]
  },
  {
   "cell_type": "code",
   "execution_count": 3,
   "id": "6d77d5b3",
   "metadata": {},
   "outputs": [],
   "source": [
    "with open('./miscellaneous.php') as file:\n",
    "    soup = BeautifulSoup(file)"
   ]
  },
  {
   "cell_type": "markdown",
   "id": "a88b2870",
   "metadata": {},
   "source": [
    "### Just content"
   ]
  },
  {
   "cell_type": "code",
   "execution_count": 12,
   "id": "ca435dba",
   "metadata": {},
   "outputs": [
    {
     "name": "stdout",
     "output_type": "stream",
     "text": [
      "\n",
      "\n",
      "## Getting Started With Python\n",
      "\n",
      "\n",
      "In this class we will use Python 3 and PyQt5. Both are freely available online, and you should install\n",
      "and get both running on whatever system you will be using.\n",
      "\n",
      "\n",
      "The \"simplest\" way to get started is to install both using the command line---on linux or mac systems, for example,\n",
      "something like this (or a variation using another installer):\n",
      "\n",
      "\n",
      "\n",
      "`sudo apt-get install python3.7 python3-pyqt5 pyqt5-dev`\n",
      "\n",
      "\n",
      "A popular cross-platform management option is [anaconda](https://anaconda.org/anaconda/python).\n",
      "\n",
      "\n",
      " If you prefer an IDE, [PyCharm](https://www.jetbrains.com/pycharm/) (which possibly installs python at the same time)\n",
      "is a good option.\n",
      "\n",
      "\n",
      "\n",
      "If you have questions or suggestions, head over to the [#python-setup-install](slack://channel?team=TEUHZ3SE9&id=CF5JF7W07) slack channel.\n",
      "\n",
      "\n",
      "\n"
     ]
    }
   ],
   "source": [
    "print(md(soup.find('div', id=\"content\")))"
   ]
  },
  {
   "cell_type": "markdown",
   "id": "0dbbfe21",
   "metadata": {},
   "source": [
    "## Find and convert PHP to MD"
   ]
  },
  {
   "cell_type": "code",
   "execution_count": 13,
   "id": "64f3b963",
   "metadata": {},
   "outputs": [],
   "source": [
    "from glob import glob"
   ]
  },
  {
   "cell_type": "code",
   "execution_count": 19,
   "id": "4bc9265e",
   "metadata": {},
   "outputs": [],
   "source": [
    "def php_to_md(file: str):\n",
    "    md_file = file.replace('.php', '.md')\n",
    "    print(f'{file} -> {md_file}')\n",
    "    \n",
    "    with open(file) as f:\n",
    "        soup = BeautifulSoup(f)\n",
    "    \n",
    "    content = soup.find('div', id='content')\n",
    "    if not content:\n",
    "        print('no content')\n",
    "        return\n",
    "        \n",
    "    md_content = md(content)\n",
    "    \n",
    "    with open(md_file, 'w') as mdf:\n",
    "        mdf.write(md_content)"
   ]
  },
  {
   "cell_type": "code",
   "execution_count": 20,
   "id": "cb4d27ea",
   "metadata": {},
   "outputs": [
    {
     "name": "stdout",
     "output_type": "stream",
     "text": [
      "group.php -> group.md\n",
      "index.php -> index.md\n",
      "grades.php -> grades.md\n",
      "permissions.php -> permissions.md\n",
      "no content\n",
      "assignments.php -> assignments.md\n",
      "schedule saved.php -> schedule saved.md\n",
      "slack.php -> slack.md\n",
      "schedule.php -> schedule.md\n",
      "schedule.php.old.php -> schedule.md.old.md\n",
      "miscellaneous.php -> miscellaneous.md\n"
     ]
    }
   ],
   "source": [
    "for file in glob('*.php'):\n",
    "    php_to_md(file)"
   ]
  },
  {
   "cell_type": "code",
   "execution_count": 22,
   "id": "8a701def",
   "metadata": {},
   "outputs": [
    {
     "name": "stdout",
     "output_type": "stream",
     "text": [
      "projects/project3-network-routing/NetworkRouting.php -> projects/project3-network-routing/NetworkRouting.md\n",
      "projects/project2-convex-hull/ConvexHull.php -> projects/project2-convex-hull/ConvexHull.md\n",
      "projects/project1-fermat/Fermat.php -> projects/project1-fermat/Fermat.md\n",
      "projects/project5-tsp/TSP.php -> projects/project5-tsp/TSP.md\n",
      "projects/project4-gene-sequencing/GeneSequencing.php -> projects/project4-gene-sequencing/GeneSequencing.md\n"
     ]
    }
   ],
   "source": [
    "for file in glob('projects/**/*.php'):\n",
    "    php_to_md(file)"
   ]
  },
  {
   "cell_type": "code",
   "execution_count": 23,
   "id": "1bf88fa6",
   "metadata": {},
   "outputs": [
    {
     "name": "stdout",
     "output_type": "stream",
     "text": [
      "projects/index.php -> projects/index.md\n",
      "projects/TSPGroup.php -> projects/TSPGroup.md\n"
     ]
    }
   ],
   "source": [
    "for file in glob('projects/*.php'):\n",
    "    php_to_md(file)"
   ]
  },
  {
   "cell_type": "code",
   "execution_count": null,
   "id": "da5e7f42",
   "metadata": {},
   "outputs": [],
   "source": []
  }
 ],
 "metadata": {
  "kernelspec": {
   "display_name": "Python 3 (ipykernel)",
   "language": "python",
   "name": "python3"
  },
  "language_info": {
   "codemirror_mode": {
    "name": "ipython",
    "version": 3
   },
   "file_extension": ".py",
   "mimetype": "text/x-python",
   "name": "python",
   "nbconvert_exporter": "python",
   "pygments_lexer": "ipython3",
   "version": "3.9.13"
  },
  "toc": {
   "base_numbering": 1,
   "nav_menu": {},
   "number_sections": false,
   "sideBar": true,
   "skip_h1_title": true,
   "title_cell": "Table of Contents",
   "title_sidebar": "Contents",
   "toc_cell": false,
   "toc_position": {},
   "toc_section_display": true,
   "toc_window_display": false
  }
 },
 "nbformat": 4,
 "nbformat_minor": 5
}
